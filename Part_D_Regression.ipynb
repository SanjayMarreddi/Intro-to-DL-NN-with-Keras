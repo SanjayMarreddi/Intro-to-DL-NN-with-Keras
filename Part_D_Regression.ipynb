{
  "nbformat": 4,
  "nbformat_minor": 0,
  "metadata": {
    "kernelspec": {
      "display_name": "Python 3",
      "language": "python",
      "name": "python3"
    },
    "language_info": {
      "codemirror_mode": {
        "name": "ipython",
        "version": 3
      },
      "file_extension": ".py",
      "mimetype": "text/x-python",
      "name": "python",
      "nbconvert_exporter": "python",
      "pygments_lexer": "ipython3",
      "version": "3.7.6"
    },
    "colab": {
      "name": "Part_D_Regression.ipynb",
      "provenance": [],
      "collapsed_sections": []
    }
  },
  "cells": [
    {
      "cell_type": "markdown",
      "metadata": {
        "id": "_V8l8UQJYw23",
        "colab_type": "text"
      },
      "source": [
        "## Regression Model"
      ]
    },
    {
      "cell_type": "markdown",
      "metadata": {
        "id": "AdZZ2z4vYh3S",
        "colab_type": "text"
      },
      "source": [
        "### Importing the Required Libraries and Packages"
      ]
    },
    {
      "cell_type": "code",
      "metadata": {
        "id": "2k168FF3XPVw",
        "colab_type": "code",
        "colab": {}
      },
      "source": [
        "from tensorflow import keras\n",
        "import pandas as pd\n",
        "import numpy as np\n",
        "import sklearn\n",
        "from keras.models import Sequential\n",
        "from keras.layers import Dense\n",
        "import statistics \n",
        "from sklearn.model_selection import train_test_split"
      ],
      "execution_count": 21,
      "outputs": []
    },
    {
      "cell_type": "markdown",
      "metadata": {
        "id": "lx73cxI2Yfz-",
        "colab_type": "text"
      },
      "source": [
        "### Reading the Data from the URL known to us "
      ]
    },
    {
      "cell_type": "code",
      "metadata": {
        "id": "3j3iDeW_XPV3",
        "colab_type": "code",
        "colab": {
          "base_uri": "https://localhost:8080/",
          "height": 204
        },
        "outputId": "4516bd85-95df-443e-efd5-b6a43dbe4452"
      },
      "source": [
        "concrete_data = pd.read_csv('https://s3-api.us-geo.objectstorage.softlayer.net/cf-courses-data/CognitiveClass/DL0101EN/labs/data/concrete_data.csv')\n",
        "concrete_data.head()"
      ],
      "execution_count": 22,
      "outputs": [
        {
          "output_type": "execute_result",
          "data": {
            "text/html": [
              "<div>\n",
              "<style scoped>\n",
              "    .dataframe tbody tr th:only-of-type {\n",
              "        vertical-align: middle;\n",
              "    }\n",
              "\n",
              "    .dataframe tbody tr th {\n",
              "        vertical-align: top;\n",
              "    }\n",
              "\n",
              "    .dataframe thead th {\n",
              "        text-align: right;\n",
              "    }\n",
              "</style>\n",
              "<table border=\"1\" class=\"dataframe\">\n",
              "  <thead>\n",
              "    <tr style=\"text-align: right;\">\n",
              "      <th></th>\n",
              "      <th>Cement</th>\n",
              "      <th>Blast Furnace Slag</th>\n",
              "      <th>Fly Ash</th>\n",
              "      <th>Water</th>\n",
              "      <th>Superplasticizer</th>\n",
              "      <th>Coarse Aggregate</th>\n",
              "      <th>Fine Aggregate</th>\n",
              "      <th>Age</th>\n",
              "      <th>Strength</th>\n",
              "    </tr>\n",
              "  </thead>\n",
              "  <tbody>\n",
              "    <tr>\n",
              "      <th>0</th>\n",
              "      <td>540.0</td>\n",
              "      <td>0.0</td>\n",
              "      <td>0.0</td>\n",
              "      <td>162.0</td>\n",
              "      <td>2.5</td>\n",
              "      <td>1040.0</td>\n",
              "      <td>676.0</td>\n",
              "      <td>28</td>\n",
              "      <td>79.99</td>\n",
              "    </tr>\n",
              "    <tr>\n",
              "      <th>1</th>\n",
              "      <td>540.0</td>\n",
              "      <td>0.0</td>\n",
              "      <td>0.0</td>\n",
              "      <td>162.0</td>\n",
              "      <td>2.5</td>\n",
              "      <td>1055.0</td>\n",
              "      <td>676.0</td>\n",
              "      <td>28</td>\n",
              "      <td>61.89</td>\n",
              "    </tr>\n",
              "    <tr>\n",
              "      <th>2</th>\n",
              "      <td>332.5</td>\n",
              "      <td>142.5</td>\n",
              "      <td>0.0</td>\n",
              "      <td>228.0</td>\n",
              "      <td>0.0</td>\n",
              "      <td>932.0</td>\n",
              "      <td>594.0</td>\n",
              "      <td>270</td>\n",
              "      <td>40.27</td>\n",
              "    </tr>\n",
              "    <tr>\n",
              "      <th>3</th>\n",
              "      <td>332.5</td>\n",
              "      <td>142.5</td>\n",
              "      <td>0.0</td>\n",
              "      <td>228.0</td>\n",
              "      <td>0.0</td>\n",
              "      <td>932.0</td>\n",
              "      <td>594.0</td>\n",
              "      <td>365</td>\n",
              "      <td>41.05</td>\n",
              "    </tr>\n",
              "    <tr>\n",
              "      <th>4</th>\n",
              "      <td>198.6</td>\n",
              "      <td>132.4</td>\n",
              "      <td>0.0</td>\n",
              "      <td>192.0</td>\n",
              "      <td>0.0</td>\n",
              "      <td>978.4</td>\n",
              "      <td>825.5</td>\n",
              "      <td>360</td>\n",
              "      <td>44.30</td>\n",
              "    </tr>\n",
              "  </tbody>\n",
              "</table>\n",
              "</div>"
            ],
            "text/plain": [
              "   Cement  Blast Furnace Slag  Fly Ash  ...  Fine Aggregate  Age  Strength\n",
              "0   540.0                 0.0      0.0  ...           676.0   28     79.99\n",
              "1   540.0                 0.0      0.0  ...           676.0   28     61.89\n",
              "2   332.5               142.5      0.0  ...           594.0  270     40.27\n",
              "3   332.5               142.5      0.0  ...           594.0  365     41.05\n",
              "4   198.6               132.4      0.0  ...           825.5  360     44.30\n",
              "\n",
              "[5 rows x 9 columns]"
            ]
          },
          "metadata": {
            "tags": []
          },
          "execution_count": 22
        }
      ]
    },
    {
      "cell_type": "markdown",
      "metadata": {
        "id": "aH-H_eQgY6lW",
        "colab_type": "text"
      },
      "source": [
        "### Separating the Predictors into X and Target into y"
      ]
    },
    {
      "cell_type": "code",
      "metadata": {
        "id": "iyf7XEyHXPV8",
        "colab_type": "code",
        "colab": {}
      },
      "source": [
        "concrete_data_columns = concrete_data.columns\n",
        "X = concrete_data[concrete_data_columns[concrete_data_columns != 'Strength']] # all columns except Strength\n",
        "y = concrete_data['Strength']\n",
        "n_cols = X.shape[1]"
      ],
      "execution_count": 24,
      "outputs": []
    },
    {
      "cell_type": "markdown",
      "metadata": {
        "id": "Scurjz4VZICa",
        "colab_type": "text"
      },
      "source": [
        "### Defining a Function for Regression Model"
      ]
    },
    {
      "cell_type": "code",
      "metadata": {
        "id": "GBVqCJR4XPWD",
        "colab_type": "code",
        "colab": {}
      },
      "source": [
        "# define regression model\n",
        "def regression_model():\n",
        "    # create model\n",
        "    model = Sequential()\n",
        "    model.add(Dense(10, activation='relu', input_shape=(n_cols,)))\n",
        "    model.add(Dense(1))\n",
        "\n",
        "    # compile model\n",
        "    model.compile(optimizer='adam', loss='mean_squared_error')\n",
        "    return model"
      ],
      "execution_count": null,
      "outputs": []
    },
    {
      "cell_type": "code",
      "metadata": {
        "id": "c6isK-uGXPWH",
        "colab_type": "code",
        "colab": {}
      },
      "source": [
        "# Insstantiating the Model\n",
        "model = regression_model()"
      ],
      "execution_count": null,
      "outputs": []
    },
    {
      "cell_type": "markdown",
      "metadata": {
        "id": "GqvndpSPZWMc",
        "colab_type": "text"
      },
      "source": [
        "### Creating a For loop to iterate 50 times"
      ]
    },
    {
      "cell_type": "code",
      "metadata": {
        "id": "Rm7kUCS7XPWK",
        "colab_type": "code",
        "colab": {}
      },
      "source": [
        "# Storing the Fifty entries of Mean_Squared_Errors into MSE list \n",
        "MSE=[]\n",
        "for i in range(50):\n",
        "    X_train, X_test, y_train, y_test = train_test_split( X, y, test_size=0.3, random_state=1)\n",
        "    model.fit(X_train,y_train,epochs=50, verbose=2)\n",
        "    y_hat=model.predict(X_test)\n",
        "    mse=sklearn.metrics.mean_squared_error(y_test,y_hat)\n",
        "    MSE.append(mse)\n",
        "    "
      ],
      "execution_count": null,
      "outputs": []
    },
    {
      "cell_type": "code",
      "metadata": {
        "id": "nrGsrir3XPWP",
        "colab_type": "code",
        "colab": {
          "base_uri": "https://localhost:8080/",
          "height": 88
        },
        "outputId": "0f410859-ca96-4650-a19a-dfefbe2dd71c"
      },
      "source": [
        "# Using the functions from statistics Library to find Mean & Standard Deviation of the mean squared errors\n",
        "\n",
        "print(\"Mean of the mean squared errors. % s \" \n",
        "                % (statistics.mean(MSE))) \n",
        "print(\"Standard Deviation of the mean squared errors. % s \" \n",
        "                % (statistics.stdev(MSE))) \n"
      ],
      "execution_count": null,
      "outputs": [
        {
          "output_type": "stream",
          "text": [
            "[53.36815685596482, 58.96418924386539, 58.00767986484009, 56.46482390105704, 58.30004265581213, 53.036992438964774, 52.81113711098989, 53.33523597200043, 53.10145593079866, 53.77351863321479, 54.304374643845826, 54.07738479011386, 57.56963560423034, 53.583134902768144, 53.34098746906892, 53.20676534942664, 52.730447316278756, 54.619859653762504, 52.78652041003585, 59.85127694385206, 54.6865819332652, 53.42035021817102, 53.638032599812405, 57.928515724132104, 57.474820970562824, 60.395150074383544, 53.85506811582915, 52.96325373995036, 55.01650345412475, 54.38334654580565, 52.241058963747484, 53.4090117617037, 53.457484337571465, 51.89869222949074, 55.075728206089636, 53.923889967023406, 52.49510441928902, 56.56322842125041, 54.34632417146811, 52.519836527155874, 53.56834634148331, 51.554495566617454, 52.76166899563112, 51.57347421953041, 53.7958369257265, 52.403402425835765, 53.79907830690959, 58.46288844651489, 51.774488283412666, 51.50126033407794] 50\n",
            "Mean of the mean squared errors. 54.36241083834915 \n",
            "Standard Deviation of the mean squared errors. 2.276513739122438 \n"
          ],
          "name": "stdout"
        }
      ]
    },
    {
      "cell_type": "markdown",
      "metadata": {
        "id": "5N7RjqRnaMK0",
        "colab_type": "text"
      },
      "source": [
        "# Part B : Normalising the data before Training"
      ]
    },
    {
      "cell_type": "code",
      "metadata": {
        "id": "8GqFQzdtYduc",
        "colab_type": "code",
        "colab": {}
      },
      "source": [
        "\n",
        "X_train = (X_train - X_train.mean()) / X_train.std()\n",
        "X_test = (X_test - X_test.mean()) / X_test.std()\n"
      ],
      "execution_count": 25,
      "outputs": []
    },
    {
      "cell_type": "code",
      "metadata": {
        "id": "MkKn9CNlYCiY",
        "colab_type": "code",
        "colab": {}
      },
      "source": [
        "# Storing the Fifty entries of Mean_Squared_Errors into MSE list \n",
        "MSE=[]\n",
        "for i in range(50):\n",
        "    X_train, X_test, y_train, y_test = train_test_split( X, y, test_size=0.3, random_state=1)\n",
        "    model.fit(X_train,y_train,epochs=50, verbose=2)\n",
        "    y_hat=model.predict(X_test)\n",
        "    mse=sklearn.metrics.mean_squared_error(y_test,y_hat)\n",
        "    MSE.append(mse)\n",
        "    "
      ],
      "execution_count": null,
      "outputs": []
    },
    {
      "cell_type": "code",
      "metadata": {
        "id": "xkTEEaxDbRey",
        "colab_type": "code",
        "colab": {
          "base_uri": "https://localhost:8080/",
          "height": 85
        },
        "outputId": "d0214646-d093-4de2-b037-626e9c08a087"
      },
      "source": [
        "# Using the functions from statistics Library to find Mean & Standard Deviation of the mean squared errors\n",
        "\n",
        "print(\"Mean of the mean squared errors After Normalising. % s \" \n",
        "                % (statistics.mean(MSE))) \n",
        "print(\"Standard Deviation of the mean squared errors After Normalising. % s \" \n",
        "                % (statistics.stdev(MSE))) \n",
        "\n",
        "print(\" \\nMean of the mean squared errors in Step B is a bit less when compared to that from Step A\")\n"
      ],
      "execution_count": null,
      "outputs": [
        {
          "output_type": "stream",
          "text": [
            "Mean of the mean squared errors After Normalising. 53.40505660551675 \n",
            "Standard Deviation of the mean squared errors After Normalising. 2.1854379953391754 \n",
            " \n",
            "Mean of the mean squared errors in Step B is a bit less when compared to that from Step A\n"
          ],
          "name": "stdout"
        }
      ]
    },
    {
      "cell_type": "markdown",
      "metadata": {
        "id": "KTdtFhmweDdA",
        "colab_type": "text"
      },
      "source": [
        "# Part C: Increase the Number Of epochs"
      ]
    },
    {
      "cell_type": "code",
      "metadata": {
        "id": "gTXrOLjUbZVc",
        "colab_type": "code",
        "colab": {}
      },
      "source": [
        "# Storing the Fifty entries of Mean_Squared_Errors into MSE list \n",
        "MSE=[]\n",
        "for i in range(50):\n",
        "    X_train, X_test, y_train, y_test = train_test_split( X, y, test_size=0.3, random_state=1)\n",
        "    model.fit(X_train,y_train,epochs=100, verbose=2)\n",
        "    y_hat=model.predict(X_test)\n",
        "    mse=sklearn.metrics.mean_squared_error(y_test,y_hat)\n",
        "    MSE.append(mse)\n",
        "    "
      ],
      "execution_count": null,
      "outputs": []
    },
    {
      "cell_type": "code",
      "metadata": {
        "id": "IhY-2c50ebuR",
        "colab_type": "code",
        "colab": {
          "base_uri": "https://localhost:8080/"
        },
        "outputId": "a7110071-a193-46de-e4a2-457ca8f43995"
      },
      "source": [
        "# Using the functions from statistics Library to find Mean & Standard Deviation of the mean squared errors\n",
        "\n",
        "print(\"Mean of the mean squared errors After Normalising and Increasing the Epochs. % s \" \n",
        "                % (statistics.mean(MSE))) \n",
        "print(\"Standard Deviation of the mean squared errors After Normalising and Increasing the Epochs. % s \" \n",
        "                % (statistics.stdev(MSE))) \n",
        "\n",
        "print(\" \\nMean of the mean squared errors in Step C is a bit less when compared to that from Step B\")\n"
      ],
      "execution_count": null,
      "outputs": [
        {
          "output_type": "stream",
          "text": [
            "Mean of the mean squared errors After Normalising and Increasing the Epochs. 51.964202251931376 \n",
            "Standard Deviation of the mean squared errors After Normalising and Increasing the Epochs. 1.7080086694020773 \n",
            " \n",
            "Mean of the mean squared errors in Step C is a bit less when compared to that from Step B\n"
          ],
          "name": "stdout"
        }
      ]
    },
    {
      "cell_type": "markdown",
      "metadata": {
        "id": "qMaXZ-Iyg5uy",
        "colab_type": "text"
      },
      "source": [
        "# Part D: Increase the number of hidden layers"
      ]
    },
    {
      "cell_type": "code",
      "metadata": {
        "id": "h6biXb4GhExz",
        "colab_type": "code",
        "colab": {}
      },
      "source": [
        "# define regression model\n",
        "def regression_model():\n",
        "    # create model\n",
        "    model = Sequential()\n",
        "    model.add(Dense(10, activation='relu', input_shape=(n_cols,)))\n",
        "    model.add(Dense(10, activation='relu'))\n",
        "    model.add(Dense(10, activation='relu'))\n",
        "  \n",
        "    model.add(Dense(1))\n",
        "\n",
        "    # compile model\n",
        "    model.compile(optimizer='adam', loss='mean_squared_error')\n",
        "    return model"
      ],
      "execution_count": 26,
      "outputs": []
    },
    {
      "cell_type": "code",
      "metadata": {
        "id": "2LXk7rv7iI1c",
        "colab_type": "code",
        "colab": {}
      },
      "source": [
        "# Insstantiating the Model\n",
        "model = regression_model()"
      ],
      "execution_count": 27,
      "outputs": []
    },
    {
      "cell_type": "code",
      "metadata": {
        "id": "pUcDOWZZhkY9",
        "colab_type": "code",
        "colab": {}
      },
      "source": [
        "MSE=[]\n",
        "for i in range(50):\n",
        "    X_train, X_test, y_train, y_test = train_test_split( X, y, test_size=0.3, random_state=1)\n",
        "    model.fit(X_train,y_train,epochs=50, verbose=2)\n",
        "    y_hat=model.predict(X_test)\n",
        "    mse=sklearn.metrics.mean_squared_error(y_test,y_hat)\n",
        "    MSE.append(mse)\n",
        "\n",
        "    \n",
        "    "
      ],
      "execution_count": null,
      "outputs": []
    },
    {
      "cell_type": "code",
      "metadata": {
        "id": "-fpl1NWlhoxm",
        "colab_type": "code",
        "colab": {
          "base_uri": "https://localhost:8080/"
        },
        "outputId": "71af55e6-d866-4cbd-d938-e457d44561f5"
      },
      "source": [
        "# Using the functions from statistics Library to find Mean & Standard Deviation of the mean squared errors\n",
        "\n",
        "print(\"Mean of the mean squared errors After Normalising and Increasing the Number of Hidden Layers. % s \" \n",
        "                % (statistics.mean(MSE))) \n",
        "print(\"Standard Deviation of the mean squared errors After Normalising and Increasing the Number of Hidden Layers. % s \" \n",
        "                % (statistics.stdev(MSE))) \n",
        "\n",
        "print(\" \\nMean of the mean squared errors in Step D is a bit less when compared to that from Step B\")"
      ],
      "execution_count": 31,
      "outputs": [
        {
          "output_type": "stream",
          "text": [
            "Mean of the mean squared errors After Normalising and Increasing the Number of Hidden Layers. 64.55412888751427 \n",
            "Standard Deviation of the mean squared errors After Normalising and Increasing the Number of Hidden Layers. 23.227037373826334 \n",
            " \n",
            "Mean of the mean squared errors in Step D is a bit less when compared to that from Step B\n",
            "hai\n"
          ],
          "name": "stdout"
        }
      ]
    },
    {
      "cell_type": "code",
      "metadata": {
        "id": "W17FD3X9igoC",
        "colab_type": "code",
        "colab": {}
      },
      "source": [
        ""
      ],
      "execution_count": null,
      "outputs": []
    }
  ]
}